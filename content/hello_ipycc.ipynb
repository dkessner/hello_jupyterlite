{
  "metadata": {
    "language_info": {
      "codemirror_mode": {
        "name": "python",
        "version": 3
      },
      "file_extension": ".py",
      "mimetype": "text/x-python",
      "name": "python",
      "nbconvert_exporter": "python",
      "pygments_lexer": "ipython3",
      "version": "3.8"
    },
    "kernelspec": {
      "name": "python",
      "display_name": "Python (Pyodide)",
      "language": "python"
    }
  },
  "nbformat_minor": 4,
  "nbformat": 4,
  "cells": [
    {
      "cell_type": "code",
      "source": "%pip install -q ipycanvas\n%pip install -q ipycc\nimport ipycanvas\nimport ipycc\n",
      "metadata": {
        "trusted": true
      },
      "execution_count": 1,
      "outputs": []
    },
    {
      "cell_type": "code",
      "source": "from ipycc import Turtle\n\n\nt = Turtle()\nt.draw()\nt.bgcolor('midnightblue')\nt.pencolor('ghostwhite')\nt.pendown()\nside = 5\nwhile side < t.width:\n    t.forward(side)\n    t.left(90)\n    await t.delay(0.1)\n    side += 5",
      "metadata": {
        "tags": [],
        "trusted": true
      },
      "execution_count": 2,
      "outputs": [
        {
          "output_type": "display_data",
          "data": {
            "text/plain": "HBox(children=(Box(children=(Canvas(height=200, width=200),), layout=Layout(height='200px', width='200px')), V…",
            "application/vnd.jupyter.widget-view+json": {
              "version_major": 2,
              "version_minor": 0,
              "model_id": "96078b76e1a74d9aa91e077745429438"
            }
          },
          "metadata": {}
        }
      ]
    }
  ]
}