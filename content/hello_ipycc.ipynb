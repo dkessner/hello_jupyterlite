{
  "metadata": {
    "language_info": {
      "codemirror_mode": {
        "name": "python",
        "version": 3
      },
      "file_extension": ".py",
      "mimetype": "text/x-python",
      "name": "python",
      "nbconvert_exporter": "python",
      "pygments_lexer": "ipython3",
      "version": "3.8"
    },
    "kernelspec": {
      "name": "python",
      "display_name": "Python (Pyodide)",
      "language": "python"
    }
  },
  "nbformat_minor": 4,
  "nbformat": 4,
  "cells": [
    {
      "cell_type": "code",
      "source": "%pip install -q ipycanvas\n%pip install -q ipycc\n\nimport ipycanvas\nfrom ipycc import Turtle",
      "metadata": {
        "trusted": true
      },
      "execution_count": 19,
      "outputs": []
    },
    {
      "cell_type": "code",
      "source": "t = Turtle()\nt.draw()\nt.bgcolor('midnightblue')\nt.pencolor('ghostwhite')\nt.pendown()\nside = 5\nwhile side < t.width:\n    t.forward(side)\n    t.left(90)\n    await t.delay(0.1)\n    side += 5",
      "metadata": {
        "tags": [],
        "trusted": true
      },
      "execution_count": 20,
      "outputs": [
        {
          "output_type": "display_data",
          "data": {
            "text/plain": "HBox(children=(Box(children=(Canvas(height=200, width=200),), layout=Layout(height='200px', width='200px')), V…",
            "application/vnd.jupyter.widget-view+json": {
              "version_major": 2,
              "version_minor": 0,
              "model_id": "bedb2b8a20ea4393ba30dda026661a66"
            }
          },
          "metadata": {}
        }
      ]
    },
    {
      "cell_type": "code",
      "source": "from math import *\n\nturtle = Turtle(400, 400)\n\nturtle.draw()\nturtle.bgcolor('black')\nturtle.pencolor('orange')\nturtle.pensize(5)\n\nturtle.penup()\nturtle.goto(50, 0)\nturtle.pendown()\n\nt = 0\n\nwhile t < 2*pi + .1:\n    r = 50 + 100 * sin(t)\n    x = r*cos(t)\n    y = r*sin(t)\n    turtle.goto(x, y)\n    await turtle.delay(0.1)\n    t += .1\n    ",
      "metadata": {
        "trusted": true
      },
      "execution_count": 21,
      "outputs": [
        {
          "output_type": "display_data",
          "data": {
            "text/plain": "HBox(children=(Box(children=(Canvas(height=400, width=400),), layout=Layout(height='400px', width='400px')), V…",
            "application/vnd.jupyter.widget-view+json": {
              "version_major": 2,
              "version_minor": 0,
              "model_id": "e9d9bcd8f1a3485ea87e97014fd3869b"
            }
          },
          "metadata": {}
        }
      ]
    },
    {
      "cell_type": "code",
      "source": "",
      "metadata": {},
      "execution_count": null,
      "outputs": []
    }
  ]
}